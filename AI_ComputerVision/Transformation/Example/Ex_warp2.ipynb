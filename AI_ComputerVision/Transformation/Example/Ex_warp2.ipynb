{
 "cells": [
  {
   "cell_type": "code",
   "execution_count": 3,
   "metadata": {},
   "outputs": [
    {
     "ename": "error",
     "evalue": "OpenCV(4.9.0) D:\\a\\opencv-python\\opencv-python\\opencv\\modules\\imgproc\\src\\imgwarp.cpp:2757: error: (-215:Assertion failed) (M0.type() == CV_32F || M0.type() == CV_64F) && M0.rows == 2 && M0.cols == 3 in function 'cv::warpAffine'\n",
     "output_type": "error",
     "traceback": [
      "\u001b[1;31m---------------------------------------------------------------------------\u001b[0m",
      "\u001b[1;31merror\u001b[0m                                     Traceback (most recent call last)",
      "Cell \u001b[1;32mIn[3], line 48\u001b[0m\n\u001b[0;32m     45\u001b[0m sheared_image \u001b[38;5;241m=\u001b[39m cv2\u001b[38;5;241m.\u001b[39mwarpAffine(scaled_image, shearing_matrix[:\u001b[38;5;241m2\u001b[39m], (image\u001b[38;5;241m.\u001b[39mshape[\u001b[38;5;241m1\u001b[39m], image\u001b[38;5;241m.\u001b[39mshape[\u001b[38;5;241m0\u001b[39m]))\n\u001b[0;32m     47\u001b[0m \u001b[38;5;66;03m# Apply translation\u001b[39;00m\n\u001b[1;32m---> 48\u001b[0m translated_image \u001b[38;5;241m=\u001b[39m \u001b[43mcv2\u001b[49m\u001b[38;5;241;43m.\u001b[39;49m\u001b[43mwarpAffine\u001b[49m\u001b[43m(\u001b[49m\u001b[43msheared_image\u001b[49m\u001b[43m,\u001b[49m\u001b[43m \u001b[49m\u001b[43mtranslation_matrix\u001b[49m\u001b[43m,\u001b[49m\u001b[43m \u001b[49m\u001b[43m(\u001b[49m\u001b[43msheared_image\u001b[49m\u001b[38;5;241;43m.\u001b[39;49m\u001b[43mshape\u001b[49m\u001b[43m[\u001b[49m\u001b[38;5;241;43m1\u001b[39;49m\u001b[43m]\u001b[49m\u001b[43m,\u001b[49m\u001b[43m \u001b[49m\u001b[43msheared_image\u001b[49m\u001b[38;5;241;43m.\u001b[39;49m\u001b[43mshape\u001b[49m\u001b[43m[\u001b[49m\u001b[38;5;241;43m0\u001b[39;49m\u001b[43m]\u001b[49m\u001b[43m)\u001b[49m\u001b[43m)\u001b[49m\n\u001b[0;32m     50\u001b[0m \u001b[38;5;66;03m# Apply rotation\u001b[39;00m\n\u001b[0;32m     51\u001b[0m rotated_image \u001b[38;5;241m=\u001b[39m cv2\u001b[38;5;241m.\u001b[39mwarpAffine(translated_image, rotation_matrix, (translated_image\u001b[38;5;241m.\u001b[39mshape[\u001b[38;5;241m1\u001b[39m], translated_image\u001b[38;5;241m.\u001b[39mshape[\u001b[38;5;241m0\u001b[39m]))\n",
      "\u001b[1;31merror\u001b[0m: OpenCV(4.9.0) D:\\a\\opencv-python\\opencv-python\\opencv\\modules\\imgproc\\src\\imgwarp.cpp:2757: error: (-215:Assertion failed) (M0.type() == CV_32F || M0.type() == CV_64F) && M0.rows == 2 && M0.cols == 3 in function 'cv::warpAffine'\n"
     ]
    }
   ],
   "source": [
    "import cv2\n",
    "import numpy as np\n",
    "\n",
    "# Load the image\n",
    "image = cv2.imread('C:\\Ai_minor\\AI_ComputerVision\\dataset\\home.jpg')\n",
    "\n",
    "# Scaling parameters\n",
    "scale_x = 1.5\n",
    "scale_y = 0.5\n",
    "\n",
    "# Shearing parameters\n",
    "shear_x = 0.2\n",
    "shear_y = 0.1\n",
    "\n",
    "# Translation parameters\n",
    "translate_x = 50\n",
    "translate_y = -30\n",
    "\n",
    "# Rotation angle in degrees\n",
    "angle = 30\n",
    "\n",
    "# Construct the scaling matrix\n",
    "scaling_matrix = np.array([[scale_x, 0, 0],\n",
    "                            [0, scale_y, 0],\n",
    "                            [0, 0, 1]], dtype=np.float32)\n",
    "\n",
    "# Construct the shearing matrix\n",
    "shearing_matrix = np.array([[1, shear_x, 0],\n",
    "                            [shear_y, 1, 0],\n",
    "                            [0, 0, 1]], dtype=np.float32)\n",
    "\n",
    "# Construct the translation matrix\n",
    "translation_matrix = np.array([[1, 0, translate_x],\n",
    "                               [0, 1, translate_y],\n",
    "                               [0, 0, 1]], dtype=np.float32)\n",
    "\n",
    "# Construct the rotation matrix\n",
    "rotation_matrix = cv2.getRotationMatrix2D((image.shape[1] / 2, image.shape[0] / 2), angle, 1)\n",
    "\n",
    "# Apply each transformation separately\n",
    "# Apply scaling\n",
    "scaled_image = cv2.warpAffine(image, scaling_matrix[:2], (image.shape[1], image.shape[0]))\n",
    "\n",
    "# Apply shearing\n",
    "sheared_image = cv2.warpAffine(scaled_image, shearing_matrix[:2], (image.shape[1], image.shape[0]))\n",
    "\n",
    "# Apply translation\n",
    "translated_image = cv2.warpAffine(sheared_image, translation_matrix, (sheared_image.shape[1], sheared_image.shape[0]))\n",
    "\n",
    "# Apply rotation\n",
    "rotated_image = cv2.warpAffine(translated_image, rotation_matrix, (translated_image.shape[1], translated_image.shape[0]))\n",
    "\n",
    "# Display the original and transformed images\n",
    "cv2.imshow('Original Image', image)\n",
    "cv2.imshow('Scaled Image', scaled_image)\n",
    "cv2.imshow('Sheared Image', sheared_image)\n",
    "cv2.imshow('Translated Image', translated_image)\n",
    "cv2.imshow('Rotated Image', rotated_image)\n",
    "cv2.waitKey(0)\n",
    "cv2.destroyAllWindows()\n"
   ]
  }
 ],
 "metadata": {
  "kernelspec": {
   "display_name": "Python 3",
   "language": "python",
   "name": "python3"
  },
  "language_info": {
   "codemirror_mode": {
    "name": "ipython",
    "version": 3
   },
   "file_extension": ".py",
   "mimetype": "text/x-python",
   "name": "python",
   "nbconvert_exporter": "python",
   "pygments_lexer": "ipython3",
   "version": "3.10.11"
  }
 },
 "nbformat": 4,
 "nbformat_minor": 2
}
