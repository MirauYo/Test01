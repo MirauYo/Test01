{
 "cells": [
  {
   "cell_type": "code",
   "execution_count": 10,
   "metadata": {},
   "outputs": [],
   "source": [
    "import cv2\n",
    "import numpy as np\n",
    "\n",
    "# Load the image\n",
    "image = cv2.imread('C:\\Ai_minor\\AI_ComputerVision\\dataset\\home.jpg')\n",
    "\n",
    "# Define the transformation parameters\n",
    "# Scaling parameters\n",
    "scale_x = 1.5\n",
    "scale_y = 0.5\n",
    "\n",
    "# Shearing parameters\n",
    "shear_x = 0.2\n",
    "shear_y = 0.1\n",
    "\n",
    "# Translation parameters\n",
    "translate_x = 50\n",
    "translate_y = -30\n",
    "\n",
    "# Rotation angle in degrees\n",
    "angle = 30\n",
    "\n",
    "# Construct the transformation matrix\n",
    "# First, construct the scaling matrix\n",
    "scaling_matrix = np.array([[scale_x, shear_x, translate_x],\n",
    "                            [shear_y, scale_y, translate_y],\n",
    "                            [0, 0, 1]])\n",
    "\n",
    "# Then, construct the rotation matrix\n",
    "rotation_matrix = cv2.getRotationMatrix2D((image.shape[1] / 2, image.shape[0] / 2), angle, 1)\n",
    "\n",
    "# Combine scaling and rotation into a single transformation matrix\n",
    "transformation_matrix = np.dot(rotation_matrix, scaling_matrix)\n",
    "\n",
    "# Apply the affine transformation using warpAffine\n",
    "transformed_image = cv2.warpAffine(image, transformation_matrix, (image.shape[1], image.shape[0]))\n",
    "\n",
    "# Display the original and transformed images\n",
    "cv2.imshow('Original Image', image)\n",
    "cv2.imshow('Transformed Image', transformed_image)\n",
    "cv2.waitKey(0)\n",
    "cv2.destroyAllWindows()\n"
   ]
  }
 ],
 "metadata": {
  "kernelspec": {
   "display_name": "Python 3",
   "language": "python",
   "name": "python3"
  },
  "language_info": {
   "codemirror_mode": {
    "name": "ipython",
    "version": 3
   },
   "file_extension": ".py",
   "mimetype": "text/x-python",
   "name": "python",
   "nbconvert_exporter": "python",
   "pygments_lexer": "ipython3",
   "version": "3.10.11"
  }
 },
 "nbformat": 4,
 "nbformat_minor": 2
}
