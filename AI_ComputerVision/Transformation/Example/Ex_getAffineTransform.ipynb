{
 "cells": [
  {
   "cell_type": "code",
   "execution_count": 4,
   "metadata": {},
   "outputs": [],
   "source": [
    "import cv2\n",
    "import numpy as np\n",
    "\n",
    "# Original points\n",
    "original_points = np.float32([[50, 50], [200, 50], [50, 200]])\n",
    "\n",
    "# Transformed points\n",
    "transformed_points = np.float32([[10, 100], [200, 50], [100, 250]])\n",
    "\n",
    "# Calculate the affine transformation matrix\n",
    "affine_matrix = cv2.getAffineTransform(original_points, transformed_points)\n",
    "\n",
    "# Apply the affine transformation\n",
    "# Create a dummy image to visualize the transformation\n",
    "dummy_image = np.zeros((300, 300), dtype=np.uint8)\n",
    "dummy_image = cv2.cvtColor(dummy_image, cv2.COLOR_GRAY2BGR)\n",
    "\n",
    "# Draw the original points on the dummy image\n",
    "for point in original_points:\n",
    "    cv2.circle(dummy_image, tuple(point.astype(int)), 5, (0, 255, 0), -1)\n",
    "\n",
    "# Apply the affine transformation to the original points\n",
    "transformed_points_calculated = cv2.transform(np.array([original_points]), affine_matrix)\n",
    "\n",
    "# Draw the transformed points on the dummy image\n",
    "for point in transformed_points_calculated[0]:\n",
    "    cv2.circle(dummy_image, tuple(point.astype(int)), 5, (0, 0, 255), -1)\n",
    "\n",
    "# Display the dummy image with original and transformed points\n",
    "cv2.imshow('Original and Transformed Points', dummy_image)\n",
    "cv2.waitKey(0)\n",
    "cv2.destroyAllWindows()\n"
   ]
  }
 ],
 "metadata": {
  "kernelspec": {
   "display_name": "Python 3",
   "language": "python",
   "name": "python3"
  },
  "language_info": {
   "codemirror_mode": {
    "name": "ipython",
    "version": 3
   },
   "file_extension": ".py",
   "mimetype": "text/x-python",
   "name": "python",
   "nbconvert_exporter": "python",
   "pygments_lexer": "ipython3",
   "version": "3.10.11"
  }
 },
 "nbformat": 4,
 "nbformat_minor": 2
}
