{
 "cells": [
  {
   "cell_type": "code",
   "execution_count": 2,
   "metadata": {},
   "outputs": [],
   "source": [
    "import cv2\n",
    "import numpy as np\n",
    "\n",
    "# Load the image\n",
    "image = cv2.imread('C:\\Ai_minor\\AI_ComputerVision\\dataset\\colorobject.png')\n",
    "\n",
    "cv2.imshow('Original Image', image)\n",
    "# Convert the image from BGR to HSV color space\n",
    "hsv_image = cv2.cvtColor(image, cv2.COLOR_BGR2HSV)\n",
    "\n",
    "# Define the lower and upper thresholds for blue color in HSV\n",
    "lower_blue = np.array([100, 50, 50])\n",
    "upper_blue = np.array([140, 255, 255])\n",
    "\n",
    "# Create a mask to extract blue regions\n",
    "blue_mask = cv2.inRange(hsv_image, lower_blue, upper_blue)\n",
    "\n",
    "# Define the lower and upper thresholds for red color in HSV\n",
    "lower_red1 = np.array([0, 50, 50])\n",
    "upper_red1 = np.array([10, 255, 255])\n",
    "lower_red2 = np.array([170, 50, 50])\n",
    "upper_red2 = np.array([180, 255, 255])\n",
    "\n",
    "# Create masks to extract red regions (since red wraps around the color space)\n",
    "red_mask1 = cv2.inRange(hsv_image, lower_red1, upper_red1)\n",
    "red_mask2 = cv2.inRange(hsv_image, lower_red2, upper_red2)\n",
    "\n",
    "# Combine the masks for blue and red regions\n",
    "combined_mask = cv2.bitwise_or(blue_mask, red_mask1)\n",
    "combined_mask = cv2.bitwise_or(combined_mask, red_mask2)\n",
    "\n",
    "# Apply the combined mask to the original image\n",
    "detected_objects = cv2.bitwise_and(image, image, mask=combined_mask)\n",
    "\n",
    "# Set the detected objects to green color\n",
    "detected_objects[np.where((detected_objects == [0, 0, 0]).all(axis=2))] = [0, 255, 0]\n",
    "\n",
    "# Display the resulting image\n",
    "cv2.imshow('Detected Objects', detected_objects)\n",
    "cv2.waitKey(0)\n",
    "cv2.destroyAllWindows()\n"
   ]
  }
 ],
 "metadata": {
  "kernelspec": {
   "display_name": "Python 3",
   "language": "python",
   "name": "python3"
  },
  "language_info": {
   "codemirror_mode": {
    "name": "ipython",
    "version": 3
   },
   "file_extension": ".py",
   "mimetype": "text/x-python",
   "name": "python",
   "nbconvert_exporter": "python",
   "pygments_lexer": "ipython3",
   "version": "3.10.11"
  }
 },
 "nbformat": 4,
 "nbformat_minor": 2
}
