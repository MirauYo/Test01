{
 "cells": [
  {
   "cell_type": "code",
   "execution_count": 1,
   "metadata": {},
   "outputs": [],
   "source": [
    "import cv2\n",
    "import numpy as np\n",
    "\n",
    "# Load the image\n",
    "image = cv2.imread('C:\\Ai_minor\\AI_ComputerVision\\dataset\\colorobject.png')\n",
    "\n",
    "cv2.imshow('Original Image', image)\n",
    "# Convert the image from BGR to HSV color space\n",
    "hsv_image = cv2.cvtColor(image, cv2.COLOR_BGR2HSV)\n",
    "\n",
    "# Define the lower and upper thresholds for red color in HSV\n",
    "lower_red = np.array([0, 50, 50])\n",
    "upper_red = np.array([10, 255, 255])\n",
    "\n",
    "# Create a mask to extract red regions\n",
    "mask1 = cv2.inRange(hsv_image, lower_red, upper_red)\n",
    "\n",
    "# Additional range for red since it wraps around in HSV color space\n",
    "lower_red = np.array([170, 50, 50])\n",
    "upper_red = np.array([180, 255, 255])\n",
    "\n",
    "# Create a mask to extract red regions in the other part of the color space\n",
    "mask2 = cv2.inRange(hsv_image, lower_red, upper_red)\n",
    "\n",
    "# Combine both masks to cover the full range of red color\n",
    "mask = cv2.bitwise_or(mask1, mask2)\n",
    "\n",
    "# Apply the mask to the original image\n",
    "red_objects = cv2.bitwise_and(image, image, mask=mask)\n",
    "\n",
    "# Convert the resulting image to grayscale\n",
    "gray_image = cv2.cvtColor(red_objects, cv2.COLOR_BGR2GRAY)\n",
    "\n",
    "# Apply a threshold to create a binary image\n",
    "_, binary_image = cv2.threshold(gray_image, 1, 255, cv2.THRESH_BINARY)\n",
    "\n",
    "# Display the binary image\n",
    "cv2.imshow('Binary Image', binary_image)\n",
    "cv2.waitKey(0)\n",
    "cv2.destroyAllWindows()\n"
   ]
  }
 ],
 "metadata": {
  "kernelspec": {
   "display_name": "Python 3",
   "language": "python",
   "name": "python3"
  },
  "language_info": {
   "codemirror_mode": {
    "name": "ipython",
    "version": 3
   },
   "file_extension": ".py",
   "mimetype": "text/x-python",
   "name": "python",
   "nbconvert_exporter": "python",
   "pygments_lexer": "ipython3",
   "version": "3.10.11"
  }
 },
 "nbformat": 4,
 "nbformat_minor": 2
}
