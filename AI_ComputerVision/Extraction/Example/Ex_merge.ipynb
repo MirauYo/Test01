{
 "cells": [
  {
   "cell_type": "code",
   "execution_count": null,
   "metadata": {},
   "outputs": [],
   "source": [
    "import cv2\n",
    "import numpy as np\n",
    "\n",
    "# Assume we have three single-channel images: b, g, r\n",
    "b = np.ones((100, 100), dtype=np.uint8) * 255  # Example blue channel (white)\n",
    "g = np.zeros((100, 100), dtype=np.uint8)       # Example green channel (black)\n",
    "r = np.zeros((100, 100), dtype=np.uint8)       # Example red channel (black)\n",
    "\n",
    "# Merge the channels into a single multichannel image\n",
    "merged_image = cv2.merge([b, g, r])\n",
    "\n",
    "# Display the merged image\n",
    "cv2.imshow('Merged Image', merged_image)\n",
    "\n",
    "# Wait for a key press and then close all windows\n",
    "cv2.waitKey(0)\n",
    "cv2.destroyAllWindows()\n"
   ]
  }
 ],
 "metadata": {
  "language_info": {
   "name": "python"
  }
 },
 "nbformat": 4,
 "nbformat_minor": 2
}
