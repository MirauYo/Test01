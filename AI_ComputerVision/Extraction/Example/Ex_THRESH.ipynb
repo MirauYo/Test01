{
 "cells": [
  {
   "cell_type": "code",
   "execution_count": 1,
   "metadata": {},
   "outputs": [],
   "source": [
    "import cv2\n",
    "\n",
    "# Read the image in grayscale\n",
    "image = cv2.imread('C:\\Ai_minor\\AI_ComputerVision\\dataset\\colorobject.png', cv2.IMREAD_GRAYSCALE)\n",
    "\n",
    "# Apply different types of thresholding\n",
    "ret1, binary_thresholded_image = cv2.threshold(image, 127, 255, cv2.THRESH_BINARY)\n",
    "ret2, binary_inv_thresholded_image = cv2.threshold(image, 127, 255, cv2.THRESH_BINARY_INV)\n",
    "ret3, trunc_thresholded_image = cv2.threshold(image, 127, 255, cv2.THRESH_TRUNC)\n",
    "ret4, tozero_thresholded_image = cv2.threshold(image, 127, 255, cv2.THRESH_TOZERO)\n",
    "ret5, tozero_inv_thresholded_image = cv2.threshold(image, 127, 255, cv2.THRESH_TOZERO_INV)\n",
    "\n",
    "# Display the original and thresholded images\n",
    "cv2.imshow('Original Image', image)\n",
    "cv2.imshow('Binary Thresholded Image', binary_thresholded_image)\n",
    "cv2.imshow('Binary Inverted Thresholded Image', binary_inv_thresholded_image)\n",
    "cv2.imshow('Truncated Thresholded Image', trunc_thresholded_image)\n",
    "cv2.imshow('To Zero Thresholded Image', tozero_thresholded_image)\n",
    "cv2.imshow('To Zero Inverted Thresholded Image', tozero_inv_thresholded_image)\n",
    "cv2.waitKey(0)\n",
    "cv2.destroyAllWindows()\n"
   ]
  }
 ],
 "metadata": {
  "kernelspec": {
   "display_name": "Python 3",
   "language": "python",
   "name": "python3"
  },
  "language_info": {
   "codemirror_mode": {
    "name": "ipython",
    "version": 3
   },
   "file_extension": ".py",
   "mimetype": "text/x-python",
   "name": "python",
   "nbconvert_exporter": "python",
   "pygments_lexer": "ipython3",
   "version": "3.10.11"
  }
 },
 "nbformat": 4,
 "nbformat_minor": 2
}
