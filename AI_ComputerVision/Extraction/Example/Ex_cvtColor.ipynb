{
 "cells": [
  {
   "cell_type": "code",
   "execution_count": null,
   "metadata": {},
   "outputs": [],
   "source": [
    "import cv2\n",
    "\n",
    "# Load an image\n",
    "image = cv2.imread('C:\\Ai_minor\\AI_ComputerVision\\dataset\\colorobject.png')\n",
    "\n",
    "# Convert the image from BGR (OpenCV's default) to RGB\n",
    "rgb_image = cv2.cvtColor(image, cv2.COLOR_BGR2RGB)\n",
    "\n",
    "# Convert the image to grayscale\n",
    "gray_image = cv2.cvtColor(image, cv2.COLOR_BGR2GRAY)\n",
    "\n",
    "# Display the original, RGB, and grayscale images\n",
    "cv2.imshow('Original Image', image)\n",
    "cv2.imshow('RGB Image', rgb_image)\n",
    "cv2.imshow('Grayscale Image', gray_image)\n",
    "\n",
    "# Wait for a key press and then close all windows\n",
    "cv2.waitKey(0)\n",
    "cv2.destroyAllWindows()\n"
   ]
  }
 ],
 "metadata": {
  "language_info": {
   "name": "python"
  }
 },
 "nbformat": 4,
 "nbformat_minor": 2
}
